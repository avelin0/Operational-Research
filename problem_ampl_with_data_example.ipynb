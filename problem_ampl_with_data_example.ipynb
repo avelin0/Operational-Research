{
  "nbformat": 4,
  "nbformat_minor": 0,
  "metadata": {
    "colab": {
      "provenance": [],
      "authorship_tag": "ABX9TyOtVOfEXhNW51UkCzc65rH7",
      "include_colab_link": true
    },
    "kernelspec": {
      "name": "python3",
      "display_name": "Python 3"
    },
    "language_info": {
      "name": "python"
    }
  },
  "cells": [
    {
      "cell_type": "markdown",
      "metadata": {
        "id": "view-in-github",
        "colab_type": "text"
      },
      "source": [
        "<a href=\"https://colab.research.google.com/github/avelin0/Operational-Research/blob/main/problem_ampl_with_data_example.ipynb\" target=\"_parent\"><img src=\"https://colab.research.google.com/assets/colab-badge.svg\" alt=\"Open In Colab\"/></a>"
      ]
    },
    {
      "cell_type": "code",
      "execution_count": null,
      "metadata": {
        "colab": {
          "base_uri": "https://localhost:8080/"
        },
        "id": "VxRLuBpH2fOt",
        "outputId": "e5a2864d-d23e-4641-c69c-8da254d2ef6b"
      },
      "outputs": [
        {
          "output_type": "stream",
          "name": "stdout",
          "text": [
            "Licensed to AMPL Community Edition License for <avel.bruno@gmail.com>.\n"
          ]
        }
      ],
      "source": [
        "!pip install -q amplpy\n",
        "\n",
        "from amplpy import tools\n",
        "\n",
        "ampl = tools.ampl_notebook(\n",
        "    modules=[\"highs\", \"coin\",\"mosek\"], \n",
        "    license_uuid=\"\") "
      ]
    },
    {
      "cell_type": "code",
      "source": [
        "%%ampl_eval\n",
        "param n;\n",
        "param capacity;\n",
        "param profit{i in 1..n};\n",
        "param r{i in 1..n};\n",
        "param maxDemand{i in 1..n};\n",
        "var paint{i in 1..n} >= 0;\n",
        "\n",
        "maximize totalProfit:\n",
        "  sum{i in 1..n} profit[i]*paint[i];\n",
        "subject to time:\n",
        "  sum{i in 1..n} ( 1 / r[i] ) * paint[i] <= capacity;\n",
        "subject to demand_limit {i in 1..n}:\n",
        "  paint[i] <= maxDemand[i];"
      ],
      "metadata": {
        "id": "4ppFJXU92heV"
      },
      "execution_count": null,
      "outputs": []
    },
    {
      "cell_type": "code",
      "source": [
        "%%writefile data.dat\n",
        "param n := 2;\n",
        "param capacity := 40;\n",
        "param profit :=\n",
        "1 10\n",
        "2 15;\n",
        "param r :=\n",
        "1 40\n",
        "2 30;\n",
        "param maxDemand :=\n",
        "1 1000\n",
        "2 860;"
      ],
      "metadata": {
        "colab": {
          "base_uri": "https://localhost:8080/"
        },
        "id": "qp53DgGm3d9k",
        "outputId": "3a8dc12a-df54-42f3-a994-4b3b8fcbe4cc"
      },
      "execution_count": null,
      "outputs": [
        {
          "output_type": "stream",
          "name": "stdout",
          "text": [
            "Overwriting data.dat\n"
          ]
        }
      ]
    },
    {
      "cell_type": "code",
      "source": [
        "%%ampl_eval\n",
        "data data.dat;\n",
        "\n",
        "option solver mosek;\n",
        "\n",
        "solve;"
      ],
      "metadata": {
        "colab": {
          "base_uri": "https://localhost:8080/"
        },
        "id": "9vWOoSNb3I9E",
        "outputId": "cff2f805-6330-4b80-9180-13aeebd27453"
      },
      "execution_count": null,
      "outputs": [
        {
          "output_type": "stream",
          "name": "stdout",
          "text": [
            "MOSEK 10.0.16: \b\b\b\b\b\b\b\b\b\b\b\b\b\b\bMOSEK 10.0.16: optimal; objective 17433.33333\n",
            "0 simplex iterations\n"
          ]
        }
      ]
    },
    {
      "cell_type": "code",
      "source": [
        "%%ampl_eval\n",
        "display totalProfit;\n",
        "display profit;"
      ],
      "metadata": {
        "colab": {
          "base_uri": "https://localhost:8080/"
        },
        "id": "e2uQEg0M8sLF",
        "outputId": "6231c2a2-86b8-4b28-fbcc-03e1008367a7"
      },
      "execution_count": null,
      "outputs": [
        {
          "output_type": "stream",
          "name": "stdout",
          "text": [
            "totalProfit = 17433.3\n",
            "\n",
            "profit [*] :=\n",
            "1  10\n",
            "2  15\n",
            ";\n",
            "\n"
          ]
        }
      ]
    },
    {
      "cell_type": "code",
      "source": [
        "%%ampl_eval\n",
        "display maxDemand;"
      ],
      "metadata": {
        "colab": {
          "base_uri": "https://localhost:8080/"
        },
        "id": "BbIwDhXy9Wyl",
        "outputId": "ac1fb995-9a3f-4d83-ee8e-51898232f46d"
      },
      "execution_count": null,
      "outputs": [
        {
          "output_type": "stream",
          "name": "stdout",
          "text": [
            "maxDemand [*] :=\n",
            "1  1000\n",
            "2   860\n",
            ";\n",
            "\n"
          ]
        }
      ]
    }
  ]
}