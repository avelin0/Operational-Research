{
  "nbformat": 4,
  "nbformat_minor": 0,
  "metadata": {
    "colab": {
      "provenance": [],
      "toc_visible": true,
      "authorship_tag": "ABX9TyPc8u4D0mfDrrSKSRrUewi6",
      "include_colab_link": true
    },
    "kernelspec": {
      "name": "python3",
      "display_name": "Python 3"
    },
    "language_info": {
      "name": "python"
    }
  },
  "cells": [
    {
      "cell_type": "markdown",
      "metadata": {
        "id": "view-in-github",
        "colab_type": "text"
      },
      "source": [
        "<a href=\"https://colab.research.google.com/github/avelin0/Operational-Research/blob/main/prob_analise_sensibilidade.ipynb\" target=\"_parent\"><img src=\"https://colab.research.google.com/assets/colab-badge.svg\" alt=\"Open In Colab\"/></a>"
      ]
    },
    {
      "cell_type": "code",
      "execution_count": 49,
      "metadata": {
        "colab": {
          "base_uri": "https://localhost:8080/"
        },
        "id": "VxRLuBpH2fOt",
        "outputId": "aeb39fb5-fae5-4f11-d6ab-8e8baf553fa6"
      },
      "outputs": [
        {
          "output_type": "stream",
          "name": "stdout",
          "text": [
            "Licensed to AMPL Community Edition License for <avel.bruno@gmail.com>.\n"
          ]
        }
      ],
      "source": [
        "!pip install -q amplpy\n",
        "\n",
        "from amplpy import tools\n",
        "\n",
        "ampl = tools.ampl_notebook(\n",
        "    modules=[\"highs\", \"coin\",\"mosek\"], \n",
        "    license_uuid=\"\") "
      ]
    },
    {
      "cell_type": "markdown",
      "source": [
        "# AMPL Problem"
      ],
      "metadata": {
        "id": "tF_OPVZNS14_"
      }
    },
    {
      "cell_type": "code",
      "source": [
        "%%ampl_eval\n",
        "reset;\n",
        "var qa >= 0;\n",
        "var qh >= 0;\n",
        "\n",
        "maximize z: 350 * qa + 300 * qh;\n",
        "s.t. r1: 9*qa + 6*qh <= 1566;\n",
        "s.t. r2: 12*qa + 16*qh <= 2880;\n",
        "s.t. r3: qa + qh <= 200;"
      ],
      "metadata": {
        "id": "4ppFJXU92heV"
      },
      "execution_count": 50,
      "outputs": []
    },
    {
      "cell_type": "code",
      "source": [
        "%%ampl_eval\n",
        "\n",
        "option solver mosek;\n",
        "\n",
        "solve;"
      ],
      "metadata": {
        "colab": {
          "base_uri": "https://localhost:8080/"
        },
        "id": "9vWOoSNb3I9E",
        "outputId": "a3001242-fc91-4e8b-b74d-3e430af81793"
      },
      "execution_count": 51,
      "outputs": [
        {
          "output_type": "stream",
          "name": "stdout",
          "text": [
            "MOSEK 10.0.16: \b\b\b\b\b\b\b\b\b\b\b\b\b\b\bMOSEK 10.0.16: optimal; objective 66099.99992\n",
            "0 simplex iterations\n",
            "5 barrier iterations\n"
          ]
        }
      ]
    },
    {
      "cell_type": "markdown",
      "source": [
        "# AMPL Solution"
      ],
      "metadata": {
        "id": "XM27VwgXS5kM"
      }
    },
    {
      "cell_type": "code",
      "source": [
        "%%ampl_eval\n",
        "display z;\n",
        "display qa,qh;"
      ],
      "metadata": {
        "colab": {
          "base_uri": "https://localhost:8080/"
        },
        "id": "e2uQEg0M8sLF",
        "outputId": "df8f3bef-9c9a-489e-aa9c-f2f025a9cdb2"
      },
      "execution_count": 52,
      "outputs": [
        {
          "output_type": "stream",
          "name": "stdout",
          "text": [
            "z = 66100\n",
            "\n",
            "qa = 122\n",
            "qh = 78\n",
            "\n"
          ]
        }
      ]
    },
    {
      "cell_type": "code",
      "source": [
        "%%ampl_eval \n",
        "option solver cbc;\n",
        "solve;"
      ],
      "metadata": {
        "colab": {
          "base_uri": "https://localhost:8080/"
        },
        "id": "j1pZ7lAUCIO1",
        "outputId": "6b5b0c7c-dc68-400c-eebb-df3544e148ef"
      },
      "execution_count": 53,
      "outputs": [
        {
          "output_type": "stream",
          "name": "stdout",
          "text": [
            "cbc 2.10.7: \b\b\b\b\b\b\b\b\b\b\b\bcbc 2.10.7: optimal solution; objective 66100\n",
            "0 simplex iterations\n"
          ]
        }
      ]
    },
    {
      "cell_type": "code",
      "source": [
        "%%ampl_eval \n",
        "option solver mosek;\n",
        "solve;"
      ],
      "metadata": {
        "colab": {
          "base_uri": "https://localhost:8080/"
        },
        "id": "pwgMW6oVCMrm",
        "outputId": "59aeea39-60ee-48ec-814a-7f4852f21b36"
      },
      "execution_count": 54,
      "outputs": [
        {
          "output_type": "stream",
          "name": "stdout",
          "text": [
            "MOSEK 10.0.16: \b\b\b\b\b\b\b\b\b\b\b\b\b\b\bMOSEK 10.0.16: optimal; objective 66099.99992\n",
            "0 simplex iterations\n",
            "5 barrier iterations\n"
          ]
        }
      ]
    },
    {
      "cell_type": "markdown",
      "source": [
        "# Sensitivity Analysis\n",
        "- Ampl commands to Sensitivity Analysis\n",
        "\n",
        "![image.png](data:image/png;base64,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)"
      ],
      "metadata": {
        "id": "l1CNRjEIJpZV"
      }
    },
    {
      "cell_type": "code",
      "source": [
        "%%ampl_eval \n",
        "option solver mosek;\n",
        "option mosek_options \"alg:sens=1\";\n",
        "solve;\n",
        "\n",
        "display _var.stage;\n",
        "\n",
        "display _var;\n",
        "\n",
        "display _con;\n",
        "\n",
        "display _var.senslblo,_var.senslbhi;\n",
        "display _var.sensublo,_var.sensubhi;\n",
        "display _var.sensobjlo,_var.sensobjhi;\n",
        "display _var.sensrhslo,_var.sensrhshi;"
      ],
      "metadata": {
        "colab": {
          "base_uri": "https://localhost:8080/"
        },
        "id": "B-45N3P1CQSU",
        "outputId": "052afd2a-adbd-4e67-8a77-0ecee2083aef"
      },
      "execution_count": 83,
      "outputs": [
        {
          "output_type": "stream",
          "name": "stdout",
          "text": [
            "MOSEK 10.0.16: alg:sens=1\n",
            "MOSEK 10.0.16: optimal; objective 66100\n",
            "0 simplex iterations\n",
            "5 barrier iterations\n",
            "_var.stage [*] :=\n",
            "1  0\n",
            "2  0\n",
            ";\n",
            "\n",
            "_var [*] :=\n",
            "1  122\n",
            "2   78\n",
            ";\n",
            "\n",
            "_con [*] :=\n",
            "1   16.6667\n",
            "2    0\n",
            "3  200\n",
            ";\n",
            "\n",
            ": _var.senslblo _var.senslbhi    :=\n",
            "1     -1e+30          122\n",
            "2     -1e+30           78\n",
            ";\n",
            "\n",
            ": _var.sensublo _var.sensubhi    :=\n",
            "1     -1e+30         1e+30\n",
            "2     -1e+30         1e+30\n",
            ";\n",
            "\n",
            ": _var.sensobjlo _var.sensobjhi    :=\n",
            "1     300              450\n",
            "2     233.333          350\n",
            ";\n",
            "\n",
            ": _var.sensrhslo _var.sensrhshi    :=\n",
            "1        0              0\n",
            "2        0              0\n",
            ";\n",
            "\n"
          ]
        }
      ]
    },
    {
      "cell_type": "code",
      "source": [
        "%%ampl_eval\n",
        "display _nvars;  # number of variables\n",
        "display _ncons;   # number of constraints\n",
        "\n",
        "display _snvars;  #number of variables sent to the solver\n",
        "display _sncons;  #number of constraints sent to the solver"
      ],
      "metadata": {
        "colab": {
          "base_uri": "https://localhost:8080/"
        },
        "id": "4BAxafMySGD-",
        "outputId": "b3bea21a-405b-461a-968b-88b62a96df06"
      },
      "execution_count": 85,
      "outputs": [
        {
          "output_type": "stream",
          "name": "stdout",
          "text": [
            "_nvars = 2\n",
            "\n",
            "_ncons = 3\n",
            "\n",
            "_snvars = 2\n",
            "\n",
            "_sncons = 3\n",
            "\n"
          ]
        }
      ]
    }
  ]
}